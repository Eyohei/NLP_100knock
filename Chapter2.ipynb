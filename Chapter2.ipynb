{
 "cells": [
  {
   "cell_type": "markdown",
   "id": "785c0807-8db0-44b3-9295-ffd99ffc4c9c",
   "metadata": {},
   "source": [
    "# 第2章：UNIXコマンド"
   ]
  },
  {
   "cell_type": "markdown",
   "id": "4c1366a1-1bca-4ab7-a786-00ac14e0dcbf",
   "metadata": {},
   "source": [
    "## 10.行数のカウント"
   ]
  },
  {
   "cell_type": "raw",
   "id": "e35f98e3-b0bb-469a-a387-84e341bce5d4",
   "metadata": {},
   "source": [
    "行数をカウントせよ．確認にはwcコマンドを用いよ．"
   ]
  },
  {
   "cell_type": "code",
   "execution_count": 4,
   "id": "eb3fac1c-ad3c-405e-ab2e-033d27b52682",
   "metadata": {},
   "outputs": [
    {
     "name": "stdout",
     "output_type": "stream",
     "text": [
      "行数は：2780\n"
     ]
    },
    {
     "data": {
      "text/html": [
       "<div>\n",
       "<style scoped>\n",
       "    .dataframe tbody tr th:only-of-type {\n",
       "        vertical-align: middle;\n",
       "    }\n",
       "\n",
       "    .dataframe tbody tr th {\n",
       "        vertical-align: top;\n",
       "    }\n",
       "\n",
       "    .dataframe thead th {\n",
       "        text-align: right;\n",
       "    }\n",
       "</style>\n",
       "<table border=\"1\" class=\"dataframe\">\n",
       "  <thead>\n",
       "    <tr style=\"text-align: right;\">\n",
       "      <th></th>\n",
       "      <th>0</th>\n",
       "      <th>1</th>\n",
       "      <th>2</th>\n",
       "      <th>3</th>\n",
       "    </tr>\n",
       "  </thead>\n",
       "  <tbody>\n",
       "    <tr>\n",
       "      <th>0</th>\n",
       "      <td>Mary</td>\n",
       "      <td>F</td>\n",
       "      <td>7065</td>\n",
       "      <td>1880</td>\n",
       "    </tr>\n",
       "    <tr>\n",
       "      <th>1</th>\n",
       "      <td>Anna</td>\n",
       "      <td>F</td>\n",
       "      <td>2604</td>\n",
       "      <td>1880</td>\n",
       "    </tr>\n",
       "    <tr>\n",
       "      <th>2</th>\n",
       "      <td>Emma</td>\n",
       "      <td>F</td>\n",
       "      <td>2003</td>\n",
       "      <td>1880</td>\n",
       "    </tr>\n",
       "    <tr>\n",
       "      <th>3</th>\n",
       "      <td>Elizabeth</td>\n",
       "      <td>F</td>\n",
       "      <td>1939</td>\n",
       "      <td>1880</td>\n",
       "    </tr>\n",
       "    <tr>\n",
       "      <th>4</th>\n",
       "      <td>Minnie</td>\n",
       "      <td>F</td>\n",
       "      <td>1746</td>\n",
       "      <td>1880</td>\n",
       "    </tr>\n",
       "    <tr>\n",
       "      <th>...</th>\n",
       "      <td>...</td>\n",
       "      <td>...</td>\n",
       "      <td>...</td>\n",
       "      <td>...</td>\n",
       "    </tr>\n",
       "    <tr>\n",
       "      <th>2775</th>\n",
       "      <td>Benjamin</td>\n",
       "      <td>M</td>\n",
       "      <td>13381</td>\n",
       "      <td>2018</td>\n",
       "    </tr>\n",
       "    <tr>\n",
       "      <th>2776</th>\n",
       "      <td>Elijah</td>\n",
       "      <td>M</td>\n",
       "      <td>12886</td>\n",
       "      <td>2018</td>\n",
       "    </tr>\n",
       "    <tr>\n",
       "      <th>2777</th>\n",
       "      <td>Lucas</td>\n",
       "      <td>M</td>\n",
       "      <td>12585</td>\n",
       "      <td>2018</td>\n",
       "    </tr>\n",
       "    <tr>\n",
       "      <th>2778</th>\n",
       "      <td>Mason</td>\n",
       "      <td>M</td>\n",
       "      <td>12435</td>\n",
       "      <td>2018</td>\n",
       "    </tr>\n",
       "    <tr>\n",
       "      <th>2779</th>\n",
       "      <td>Logan</td>\n",
       "      <td>M</td>\n",
       "      <td>12352</td>\n",
       "      <td>2018</td>\n",
       "    </tr>\n",
       "  </tbody>\n",
       "</table>\n",
       "<p>2780 rows × 4 columns</p>\n",
       "</div>"
      ],
      "text/plain": [
       "              0  1      2     3\n",
       "0          Mary  F   7065  1880\n",
       "1          Anna  F   2604  1880\n",
       "2          Emma  F   2003  1880\n",
       "3     Elizabeth  F   1939  1880\n",
       "4        Minnie  F   1746  1880\n",
       "...         ... ..    ...   ...\n",
       "2775   Benjamin  M  13381  2018\n",
       "2776     Elijah  M  12886  2018\n",
       "2777      Lucas  M  12585  2018\n",
       "2778      Mason  M  12435  2018\n",
       "2779      Logan  M  12352  2018\n",
       "\n",
       "[2780 rows x 4 columns]"
      ]
     },
     "execution_count": 4,
     "metadata": {},
     "output_type": "execute_result"
    }
   ],
   "source": [
    "import pandas as pd\n",
    "df_popular_name = pd.read_table(\"popular-names.txt\", header=None)\n",
    "print(\"行数は：{}\".format(len(df_popular_name)))\n",
    "df_popular_name"
   ]
  },
  {
   "cell_type": "markdown",
   "id": "df21fd60-91e4-4bcd-b1a8-d99f0ed347a3",
   "metadata": {},
   "source": [
    "## 11.タブをスペースに置換"
   ]
  },
  {
   "cell_type": "raw",
   "id": "91d20fa1-6a7e-4378-ae7e-b09ec3fa5a02",
   "metadata": {},
   "source": [
    "タブ1文字につきスペース1文字に置換せよ．確認にはsedコマンド，trコマンド，もしくはexpandコマンドを用いよ．"
   ]
  },
  {
   "cell_type": "code",
   "execution_count": 8,
   "id": "538e1249-11dc-496c-b822-5e7e78d2fe77",
   "metadata": {},
   "outputs": [],
   "source": [
    "file_popular_name = open('popular-names.txt', 'r')\n",
    "data_popular_name = file_popular_name.read()\n",
    "file_popular_name.close()\n",
    "data_ans11 = data_popular_name.replace('\\t', ' ')\n",
    "file_ans11 = open('ans11.txt', 'w')\n",
    "file_ans11.write(data_ans11)\n",
    "file_ans11.close()"
   ]
  },
  {
   "cell_type": "code",
   "execution_count": null,
   "id": "568c4fb3-1913-4401-a8a6-5d0b0bbcc8bf",
   "metadata": {},
   "outputs": [],
   "source": []
  }
 ],
 "metadata": {
  "kernelspec": {
   "display_name": "Python 3",
   "language": "python",
   "name": "python3"
  },
  "language_info": {
   "codemirror_mode": {
    "name": "ipython",
    "version": 3
   },
   "file_extension": ".py",
   "mimetype": "text/x-python",
   "name": "python",
   "nbconvert_exporter": "python",
   "pygments_lexer": "ipython3",
   "version": "3.8.8"
  }
 },
 "nbformat": 4,
 "nbformat_minor": 5
}
