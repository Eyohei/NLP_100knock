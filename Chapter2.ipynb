{
 "cells": [
  {
   "cell_type": "markdown",
   "id": "785c0807-8db0-44b3-9295-ffd99ffc4c9c",
   "metadata": {},
   "source": [
    "# 第2章：UNIXコマンド"
   ]
  },
  {
   "cell_type": "markdown",
   "id": "4c1366a1-1bca-4ab7-a786-00ac14e0dcbf",
   "metadata": {},
   "source": [
    "## 10.行数のカウント"
   ]
  },
  {
   "cell_type": "raw",
   "id": "e35f98e3-b0bb-469a-a387-84e341bce5d4",
   "metadata": {},
   "source": [
    "行数をカウントせよ．確認にはwcコマンドを用いよ．"
   ]
  },
  {
   "cell_type": "code",
   "execution_count": 1,
   "id": "eb3fac1c-ad3c-405e-ab2e-033d27b52682",
   "metadata": {
    "jupyter": {
     "outputs_hidden": true
    },
    "tags": []
   },
   "outputs": [
    {
     "name": "stdout",
     "output_type": "stream",
     "text": [
      "行数は：2780\n"
     ]
    },
    {
     "data": {
      "text/html": [
       "<div>\n",
       "<style scoped>\n",
       "    .dataframe tbody tr th:only-of-type {\n",
       "        vertical-align: middle;\n",
       "    }\n",
       "\n",
       "    .dataframe tbody tr th {\n",
       "        vertical-align: top;\n",
       "    }\n",
       "\n",
       "    .dataframe thead th {\n",
       "        text-align: right;\n",
       "    }\n",
       "</style>\n",
       "<table border=\"1\" class=\"dataframe\">\n",
       "  <thead>\n",
       "    <tr style=\"text-align: right;\">\n",
       "      <th></th>\n",
       "      <th>0</th>\n",
       "      <th>1</th>\n",
       "      <th>2</th>\n",
       "      <th>3</th>\n",
       "    </tr>\n",
       "  </thead>\n",
       "  <tbody>\n",
       "    <tr>\n",
       "      <th>0</th>\n",
       "      <td>Mary</td>\n",
       "      <td>F</td>\n",
       "      <td>7065</td>\n",
       "      <td>1880</td>\n",
       "    </tr>\n",
       "    <tr>\n",
       "      <th>1</th>\n",
       "      <td>Anna</td>\n",
       "      <td>F</td>\n",
       "      <td>2604</td>\n",
       "      <td>1880</td>\n",
       "    </tr>\n",
       "    <tr>\n",
       "      <th>2</th>\n",
       "      <td>Emma</td>\n",
       "      <td>F</td>\n",
       "      <td>2003</td>\n",
       "      <td>1880</td>\n",
       "    </tr>\n",
       "    <tr>\n",
       "      <th>3</th>\n",
       "      <td>Elizabeth</td>\n",
       "      <td>F</td>\n",
       "      <td>1939</td>\n",
       "      <td>1880</td>\n",
       "    </tr>\n",
       "    <tr>\n",
       "      <th>4</th>\n",
       "      <td>Minnie</td>\n",
       "      <td>F</td>\n",
       "      <td>1746</td>\n",
       "      <td>1880</td>\n",
       "    </tr>\n",
       "    <tr>\n",
       "      <th>...</th>\n",
       "      <td>...</td>\n",
       "      <td>...</td>\n",
       "      <td>...</td>\n",
       "      <td>...</td>\n",
       "    </tr>\n",
       "    <tr>\n",
       "      <th>2775</th>\n",
       "      <td>Benjamin</td>\n",
       "      <td>M</td>\n",
       "      <td>13381</td>\n",
       "      <td>2018</td>\n",
       "    </tr>\n",
       "    <tr>\n",
       "      <th>2776</th>\n",
       "      <td>Elijah</td>\n",
       "      <td>M</td>\n",
       "      <td>12886</td>\n",
       "      <td>2018</td>\n",
       "    </tr>\n",
       "    <tr>\n",
       "      <th>2777</th>\n",
       "      <td>Lucas</td>\n",
       "      <td>M</td>\n",
       "      <td>12585</td>\n",
       "      <td>2018</td>\n",
       "    </tr>\n",
       "    <tr>\n",
       "      <th>2778</th>\n",
       "      <td>Mason</td>\n",
       "      <td>M</td>\n",
       "      <td>12435</td>\n",
       "      <td>2018</td>\n",
       "    </tr>\n",
       "    <tr>\n",
       "      <th>2779</th>\n",
       "      <td>Logan</td>\n",
       "      <td>M</td>\n",
       "      <td>12352</td>\n",
       "      <td>2018</td>\n",
       "    </tr>\n",
       "  </tbody>\n",
       "</table>\n",
       "<p>2780 rows × 4 columns</p>\n",
       "</div>"
      ],
      "text/plain": [
       "              0  1      2     3\n",
       "0          Mary  F   7065  1880\n",
       "1          Anna  F   2604  1880\n",
       "2          Emma  F   2003  1880\n",
       "3     Elizabeth  F   1939  1880\n",
       "4        Minnie  F   1746  1880\n",
       "...         ... ..    ...   ...\n",
       "2775   Benjamin  M  13381  2018\n",
       "2776     Elijah  M  12886  2018\n",
       "2777      Lucas  M  12585  2018\n",
       "2778      Mason  M  12435  2018\n",
       "2779      Logan  M  12352  2018\n",
       "\n",
       "[2780 rows x 4 columns]"
      ]
     },
     "execution_count": 1,
     "metadata": {},
     "output_type": "execute_result"
    }
   ],
   "source": [
    "import pandas as pd\n",
    "df_popular_name = pd.read_table(\"popular-names.txt\", header=None)\n",
    "print(\"行数は：{}\".format(len(df_popular_name)))\n",
    "df_popular_name"
   ]
  },
  {
   "cell_type": "markdown",
   "id": "df21fd60-91e4-4bcd-b1a8-d99f0ed347a3",
   "metadata": {},
   "source": [
    "## 11.タブをスペースに置換"
   ]
  },
  {
   "cell_type": "raw",
   "id": "91d20fa1-6a7e-4378-ae7e-b09ec3fa5a02",
   "metadata": {},
   "source": [
    "タブ1文字につきスペース1文字に置換せよ．確認にはsedコマンド，trコマンド，もしくはexpandコマンドを用いよ．"
   ]
  },
  {
   "cell_type": "code",
   "execution_count": 2,
   "id": "538e1249-11dc-496c-b822-5e7e78d2fe77",
   "metadata": {},
   "outputs": [],
   "source": [
    "file_popular_name = open('popular-names.txt', 'r')\n",
    "data_popular_name = file_popular_name.read()\n",
    "file_popular_name.close()\n",
    "data_ans11 = data_popular_name.replace('\\t', ' ')\n",
    "file_ans11 = open('ans11.txt', 'w')\n",
    "file_ans11.write(data_ans11)\n",
    "file_ans11.close()"
   ]
  },
  {
   "cell_type": "markdown",
   "id": "6ee1280f-1b1a-4481-8210-03bb2083198d",
   "metadata": {},
   "source": [
    "## 12.1列目をcol1.txtに，2列目をcol2.txtに保存"
   ]
  },
  {
   "cell_type": "raw",
   "id": "b454f582-6066-4d14-887b-5c2c364e34d3",
   "metadata": {},
   "source": [
    "各行の1列目だけを抜き出したものをcol1.txtに，2列目だけを抜き出したものをcol2.txtとしてファイルに保存せよ．確認にはcutコマンドを用いよ．"
   ]
  },
  {
   "cell_type": "code",
   "execution_count": 3,
   "id": "05e5a87e-a1f9-44a1-b7a8-9b68663988bd",
   "metadata": {
    "tags": []
   },
   "outputs": [],
   "source": [
    "df_popular_name[0].to_csv(\"./col1.txt\", sep=' ', index=False, header=False)\n",
    "df_popular_name[1].to_csv(\"./col2.txt\", sep=' ', index=False, header=False)"
   ]
  },
  {
   "cell_type": "markdown",
   "id": "e1545c07-1129-4db6-b00c-78836d364aae",
   "metadata": {},
   "source": [
    "## 13.col1.txtとcol2.txtをマージ"
   ]
  },
  {
   "cell_type": "raw",
   "id": "ad96680f-9cce-430b-98f3-9fe171a7be47",
   "metadata": {},
   "source": [
    "12で作ったcol1.txtとcol2.txtを結合し，元のファイルの1列目と2列目をタブ区切りで並べたテキストファイルを作成せよ．確認にはpasteコマンドを用いよ．"
   ]
  },
  {
   "cell_type": "code",
   "execution_count": 15,
   "id": "f781de63-94f1-4c57-b870-09f59be61fc6",
   "metadata": {},
   "outputs": [],
   "source": [
    "df_1301 = pd.read_table(\"col1.txt\", header=None)\n",
    "df_1302 = pd.read_table(\"col2.txt\", header=None)\n",
    "#print(df_1301.head(2))\n",
    "#print(df_1302.head(2))\n",
    "df_ans13 = pd.concat([df_1301, df_1302], axis=1)\n",
    "df_ans13.to_csv(\"./ans13.txt\", sep='\\t', index=False, header=False)"
   ]
  },
  {
   "cell_type": "markdown",
   "id": "36343b04",
   "metadata": {},
   "source": [
    "# 14. 先頭からN行を出力"
   ]
  },
  {
   "cell_type": "raw",
   "id": "14aae89c",
   "metadata": {},
   "source": [
    "自然数Nをコマンドライン引数などの手段で受け取り，入力のうち先頭のN行だけを表示せよ．確認にはheadコマンドを用いよ．"
   ]
  },
  {
   "cell_type": "code",
   "execution_count": 32,
   "id": "0c18a9cc",
   "metadata": {
    "scrolled": true
   },
   "outputs": [
    {
     "name": "stdout",
     "output_type": "stream",
     "text": [
      "3\n",
      "Mary\tF\n",
      "Anna\tF\n",
      "Emma\tF\n"
     ]
    }
   ],
   "source": [
    "N = int(input())\n",
    "#print(type(N))\n",
    "f14 = open(\"./ans13.txt\", \"r\")\n",
    "d14 = f14.readlines()\n",
    "f14.close()\n",
    "#print(d14)\n",
    "for i in range(N):\n",
    "    print(d14[i], end=\"\")"
   ]
  },
  {
   "cell_type": "markdown",
   "id": "11820978",
   "metadata": {},
   "source": [
    "# 15. 末尾のN行を出力"
   ]
  },
  {
   "cell_type": "raw",
   "id": "c04e3d0b",
   "metadata": {},
   "source": [
    "自然数Nをコマンドライン引数などの手段で受け取り，入力のうち末尾のN行だけを表示せよ．確認にはtailコマンドを用いよ．"
   ]
  },
  {
   "cell_type": "code",
   "execution_count": 35,
   "id": "0668c6df",
   "metadata": {
    "scrolled": true
   },
   "outputs": [
    {
     "name": "stdout",
     "output_type": "stream",
     "text": [
      "24\n",
      "Mason\tM\n",
      "Elijah\tM\n",
      "Oliver\tM\n",
      "Jacob\tM\n",
      "Emma\tF\n",
      "Olivia\tF\n",
      "Ava\tF\n",
      "Isabella\tF\n",
      "Sophia\tF\n",
      "Charlotte\tF\n",
      "Mia\tF\n",
      "Amelia\tF\n",
      "Harper\tF\n",
      "Evelyn\tF\n",
      "Liam\tM\n",
      "Noah\tM\n",
      "William\tM\n",
      "James\tM\n",
      "Oliver\tM\n",
      "Benjamin\tM\n",
      "Elijah\tM\n",
      "Lucas\tM\n",
      "Mason\tM\n",
      "Logan\tM\n"
     ]
    }
   ],
   "source": [
    "N=int(input())\n",
    "f15 = open(\"./ans13.txt\", \"r\")\n",
    "d15 = f15.readlines()\n",
    "f15.close()\n",
    "if len(d15)-N < 0:\n",
    "    print(str(N)+\"行ない\")\n",
    "else:\n",
    "    for i in range(len(d15)-N, len(d15)):\n",
    "        print(d15[i], end=\"\")"
   ]
  },
  {
   "cell_type": "markdown",
   "id": "e5d75ef9",
   "metadata": {},
   "source": [
    "# 16. ファイルをN分割する"
   ]
  },
  {
   "cell_type": "code",
   "execution_count": 51,
   "id": "c3974db1",
   "metadata": {},
   "outputs": [
    {
     "name": "stdout",
     "output_type": "stream",
     "text": [
      "3\n",
      "927\n",
      "2780\n",
      "0 927\n",
      "927 1854\n",
      "1854 2781\n"
     ]
    }
   ],
   "source": [
    "N = int(input())\n",
    "f16 = open(\"./ans13.txt\", \"r\")\n",
    "d16 = f16.readlines()\n",
    "f16.close()\n",
    "ls = int(len(d16) / N) + 1\n",
    "len_d16 = len(d16)\n",
    "print(ls)\n",
    "print(len_d16)\n",
    "l_st = 0\n",
    "for i in range(N):\n",
    "    f=open(\"./ans16\"+str(i), \"w\")\n",
    "    if l_st + ls < len_d16:\n",
    "        for j in range(l_st, l_st + ls):\n",
    "            f.write(d16[j])\n",
    "    else:\n",
    "        for j in range(l_st, len_d16):\n",
    "            f.write(d16[j])\n",
    "    f.close()\n",
    "    print(l_st, l_st+ls)\n",
    "    l_st = l_st + ls"
   ]
  },
  {
   "cell_type": "markdown",
   "id": "b3f42608",
   "metadata": {},
   "source": [
    "# q"
   ]
  },
  {
   "cell_type": "code",
   "execution_count": null,
   "id": "f38c0056",
   "metadata": {},
   "outputs": [],
   "source": []
  }
 ],
 "metadata": {
  "kernelspec": {
   "display_name": "Python 3",
   "language": "python",
   "name": "python3"
  },
  "language_info": {
   "codemirror_mode": {
    "name": "ipython",
    "version": 3
   },
   "file_extension": ".py",
   "mimetype": "text/x-python",
   "name": "python",
   "nbconvert_exporter": "python",
   "pygments_lexer": "ipython3",
   "version": "3.9.2"
  }
 },
 "nbformat": 4,
 "nbformat_minor": 5
}
