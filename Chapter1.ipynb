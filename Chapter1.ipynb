{
 "cells": [
  {
   "cell_type": "markdown",
   "id": "94f955a8-8d33-4c8a-a89c-109d266cb2de",
   "metadata": {},
   "source": [
    "# 第１章：準備運動"
   ]
  },
  {
   "cell_type": "markdown",
   "id": "0df63ec5-470e-4c76-b70d-52dfd9e8fd8d",
   "metadata": {},
   "source": [
    "## 00. 文字列の逆順"
   ]
  },
  {
   "cell_type": "raw",
   "id": "8154f14b-2ef0-4f32-8523-c42a03292e26",
   "metadata": {},
   "source": [
    "文字列\"stressed\"の文字を（末尾から先頭に向かって）並べた文字列を得よ"
   ]
  },
  {
   "cell_type": "code",
   "execution_count": 1,
   "id": "d364b6d8-6199-4729-bc1d-471e51e11517",
   "metadata": {},
   "outputs": [
    {
     "name": "stdout",
     "output_type": "stream",
     "text": [
      "stressed\n",
      "8\n",
      "desserts\n"
     ]
    }
   ],
   "source": [
    "str00 = \"stressed\"\n",
    "print(str00)\n",
    "print(len(str00))\n",
    "ans00 = \"\"\n",
    "for i in range(len(str00)-1, -1, -1):\n",
    "    ans00 = ans00 + str00[i]\n",
    "print(ans00)"
   ]
  },
  {
   "cell_type": "markdown",
   "id": "541b007b-2e20-4839-bb8b-a0c7c3898a64",
   "metadata": {},
   "source": [
    "## 01.「パタトクカシー」"
   ]
  },
  {
   "cell_type": "raw",
   "id": "0b0660fd-d4cb-4163-9ca8-3a4eaff914dd",
   "metadata": {},
   "source": [
    "「パタトクカシーー」という文字列の1,3,5,7文字目を取り出して連結した文字列を得よ．"
   ]
  },
  {
   "cell_type": "code",
   "execution_count": 2,
   "id": "eda3042e-243d-4904-a208-e69566653e45",
   "metadata": {},
   "outputs": [
    {
     "name": "stdout",
     "output_type": "stream",
     "text": [
      "パトカー\n"
     ]
    }
   ],
   "source": [
    "str01 = \"パタトクカシーー\"\n",
    "ans01 = \"\"\n",
    "for i in range(0, len(str01), 2):\n",
    "    ans01 = ans01 + str01[i]\n",
    "print(ans01)"
   ]
  },
  {
   "cell_type": "markdown",
   "id": "8991146f-982f-4aee-8e05-fcd1af494a44",
   "metadata": {},
   "source": [
    "## 02. 「パトカー」＋「タクシー」＝「パタトクカシーー」"
   ]
  },
  {
   "cell_type": "raw",
   "id": "308de70b-ff76-422e-b6d0-cdaedf598355",
   "metadata": {},
   "source": [
    "「パトカー」＋「タクシー」の文字を先頭から交互に連結して文字列「パタトクカシーー」を得よ．"
   ]
  },
  {
   "cell_type": "code",
   "execution_count": 3,
   "id": "6194469f-79a5-47ca-8136-d00c4b43a3b3",
   "metadata": {},
   "outputs": [
    {
     "name": "stdout",
     "output_type": "stream",
     "text": [
      "4\n",
      "パタトクカシーー\n"
     ]
    }
   ],
   "source": [
    "str021 = \"パトカー\"\n",
    "str022 = \"タクシー\"\n",
    "ans02 = \"\"\n",
    "print(max([len(str021), len(str022)]))\n",
    "for i in range(max([len(str021), len(str022)])):\n",
    "    if i >= len(str021):\n",
    "        ans02 = ans02 + str022[i]\n",
    "    elif i >= len(str022):\n",
    "        ans02 = ans02 + str021[i]\n",
    "    else:\n",
    "        ans02 = ans02 + str021[i] + str022[i]\n",
    "print(ans02)"
   ]
  },
  {
   "cell_type": "markdown",
   "id": "0d234a48-49e7-4280-a85a-9e28d11da498",
   "metadata": {},
   "source": [
    "## 03.円周率"
   ]
  },
  {
   "cell_type": "raw",
   "id": "68599321-42a4-4c7a-853a-f29703b5d581",
   "metadata": {},
   "source": [
    "“Now I need a drink, alcoholic of course, after the heavy lectures involving quantum mechanics.”という文を単語に分解し，各単語の（アルファベットの）文字数を先頭から出現順に並べたリストを作成せよ．"
   ]
  },
  {
   "cell_type": "code",
   "execution_count": 4,
   "id": "b16863af-c953-4d77-bb18-b138ff54f027",
   "metadata": {},
   "outputs": [
    {
     "name": "stdout",
     "output_type": "stream",
     "text": [
      "['Now', 'I', 'need', 'a', 'drink,', 'alcoholic', 'of', 'course,', 'after', 'the', 'heavy', 'lectures', 'involving', 'quantum', 'mechanics.']\n"
     ]
    }
   ],
   "source": [
    "str03 = \"Now I need a drink, alcoholic of course, after the heavy lectures involving quantum mechanics.\"\n",
    "ans03_list = str03.split()\n",
    "print(ans03_list)"
   ]
  },
  {
   "cell_type": "markdown",
   "id": "f7106684-e51f-4695-b4ce-d12561dcac0e",
   "metadata": {},
   "source": [
    "## 04.元素記号"
   ]
  },
  {
   "cell_type": "raw",
   "id": "ce87589c-f862-4170-a2a5-1dfad3651e69",
   "metadata": {},
   "source": [
    "“Hi He Lied Because Boron Could Not Oxidize Fluorine. New Nations Might Also Sign Peace Security Clause. Arthur King Can.”という文を単語に分解し，1, 5, 6, 7, 8, 9, 15, 16, 19番目の単語は先頭の1文字，それ以外の単語は先頭の2文字を取り出し，取り出した文字列から単語の位置（先頭から何番目の単語か）への連想配列（辞書型もしくはマップ型）を作成せよ．"
   ]
  },
  {
   "cell_type": "code",
   "execution_count": 5,
   "id": "b103047b-fcdd-4066-88dc-6b1656a03dad",
   "metadata": {},
   "outputs": [
    {
     "data": {
      "text/plain": [
       "{'H': 1,\n",
       " 'He': 2,\n",
       " 'Li': 3,\n",
       " 'Be': 4,\n",
       " 'B': 5,\n",
       " 'C': 6,\n",
       " 'N': 7,\n",
       " 'O': 8,\n",
       " 'F': 9,\n",
       " 'Ne': 10,\n",
       " 'Na': 11,\n",
       " 'Mi': 12,\n",
       " 'Al': 13,\n",
       " 'Si': 14,\n",
       " 'P': 15,\n",
       " 'S': 16,\n",
       " 'Cl': 17,\n",
       " 'Ar': 18,\n",
       " 'K': 19,\n",
       " 'Ca': 20}"
      ]
     },
     "execution_count": 5,
     "metadata": {},
     "output_type": "execute_result"
    }
   ],
   "source": [
    "str04 = \"Hi He Lied Because Boron Could Not Oxidize Fluorine. New Nations Might Also Sign Peace Security Clause. Arthur King Can.\"\n",
    "list_str = str04.split()\n",
    "#print(list_str)\n",
    "list_num = [1, 5, 6, 7, 8, 9, 15, 16, 19]\n",
    "ans04_dic = {}\n",
    "for i in range(len(list_str)):\n",
    "    if i+1 in list_num:\n",
    "        index_ans = list_str[i][0]\n",
    "#        print(index_ans)\n",
    "    else:\n",
    "        index_ans = list_str[i][0] + list_str[i][1] \n",
    "#        print(index_ans)\n",
    "    ans04_dic[index_ans] = i + 1\n",
    "ans04_dic"
   ]
  },
  {
   "cell_type": "markdown",
   "id": "72ca14fb-c38a-4ec5-b43c-7c2afa9d66a1",
   "metadata": {},
   "source": [
    "## 05.n-gram"
   ]
  },
  {
   "cell_type": "raw",
   "id": "8fe1e4ca-90f1-4e13-b89c-e99cdb12d6ae",
   "metadata": {},
   "source": [
    "与えられたシーケンス（文字列やリストなど）からn-gramを作る関数を作成せよ．この関数を用い，”I am an NLPer”という文から単語bi-gram，文字bi-gramを得よ．"
   ]
  },
  {
   "cell_type": "code",
   "execution_count": 6,
   "id": "160a88b3-8a2a-4d96-a871-d7e2158a9dd5",
   "metadata": {},
   "outputs": [
    {
     "name": "stdout",
     "output_type": "stream",
     "text": [
      "['Iam', 'aman', 'anNLPer']\n",
      "['I', 'a', 'am', 'm', 'a', 'an', 'n', 'N', 'NL', 'LP', 'Pe', 'er']\n"
     ]
    }
   ],
   "source": [
    "# 初期化\n",
    "str05 = \"I am an NLPer\"\n",
    "list_words = str05.split()\n",
    "#print(list_words)\n",
    "ans05_lt = []\n",
    "ans05_wd = []\n",
    "\n",
    "# n-gramを作る関数定義\n",
    "def create_ngram(str_or_lst, mode_ngram, n):\n",
    "    lst_tmp = []\n",
    "    lst_ans = []\n",
    "    # 前処理\n",
    "    if mode_ngram == \"word\":\n",
    "        lst_tmp = str_or_lst.split()\n",
    "    elif mode_ngram == \"letter\":\n",
    "        lst_tmp = str_or_lst\n",
    "    # bi-gram分解\n",
    "    for i in range(len(lst_tmp)-(n-1)):\n",
    "        str_ngram = \"\"\n",
    "        for j in range(n):\n",
    "            str_ngram = str_ngram + lst_tmp[i+j]\n",
    "        # 後処理（空白を削除）\n",
    "        str_ngram = str_ngram.strip()\n",
    "        lst_ans.append(str_ngram)\n",
    "    return lst_ans\n",
    "\n",
    "# 単語n-gram\n",
    "print(create_ngram(str05, \"word\", 2))\n",
    "# 文字n-gram\n",
    "print(create_ngram(str05, \"letter\", 2))"
   ]
  },
  {
   "cell_type": "markdown",
   "id": "66479b24-f316-4460-aab4-335e9d34ded5",
   "metadata": {},
   "source": [
    "## 06.集合"
   ]
  },
  {
   "cell_type": "raw",
   "id": "b85c72fa-a62e-46ff-a4ff-6dd721c43692",
   "metadata": {},
   "source": [
    "“paraparaparadise”と”paragraph”に含まれる文字bi-gramの集合を，それぞれ, XとYとして求め，XとYの和集合，積集合，差集合を求めよ．さらに，’se’というbi-gramがXおよびYに含まれるかどうかを調べよ．"
   ]
  },
  {
   "cell_type": "code",
   "execution_count": 7,
   "id": "6a612958-ae14-4b47-b000-eae912f32b40",
   "metadata": {},
   "outputs": [
    {
     "name": "stdout",
     "output_type": "stream",
     "text": [
      "X:['pa', 'ar', 'ra', 'ap', 'pa', 'ar', 'ra', 'ap', 'pa', 'ar', 'ra', 'ad', 'di', 'is', 'se']\n",
      "Y:['pa', 'ar', 'ra', 'ag', 'gr', 'ra', 'ap', 'ph']\n",
      "XとYの和集合：{'ph', 'is', 'ad', 'ar', 'ag', 'gr', 'ra', 'di', 'pa', 'se', 'ap'}\n",
      "XとYの積集合：{'ap', 'ra', 'ar', 'pa'}\n",
      "XとYの差集合：{'ph', 'ad', 'gr', 'di', 'is', 'ag', 'se'}\n",
      "Xに'se'が含まれるか：True\n",
      "Yに'se'が含まれるか：False\n"
     ]
    }
   ],
   "source": [
    "str06_1 = \"paraparaparadise\"\n",
    "str06_2 = \"paragraph\"\n",
    "# 問題05の関数を用いる\n",
    "X = create_ngram(str06_1, \"letter\", 2)\n",
    "Y = create_ngram(str06_2, \"letter\", 2)\n",
    "print(\"X:{}\".format(X))\n",
    "print(\"Y:{}\".format(Y))\n",
    "# 集合演算用にリストをsetに変換\n",
    "s_X = set(X)\n",
    "s_Y = set(Y)\n",
    "# 和集合\n",
    "print(\"XとYの和集合：{}\".format(s_X | s_Y))\n",
    "# 積集合\n",
    "print(\"XとYの積集合：{}\".format(s_X & s_Y))\n",
    "# 差集合（どちらかの集合のみに含まれる）\n",
    "print(\"XとYの差集合：{}\".format(s_X.symmetric_difference(s_Y)))\n",
    "# 'se'一致するbi-gramあるか検索\n",
    "print(\"Xに'se'が含まれるか：{}\".format(\"se\" in (s_X)))\n",
    "print(\"Yに'se'が含まれるか：{}\".format(\"se\" in (s_Y)))"
   ]
  },
  {
   "cell_type": "markdown",
   "id": "ba29ca7e-ef82-425c-94f1-15868fd6805f",
   "metadata": {},
   "source": [
    "## 07. テンプレートによる文生成"
   ]
  },
  {
   "cell_type": "raw",
   "id": "f3f3eb6a-b183-41b0-a09f-c790e83ef635",
   "metadata": {},
   "source": [
    "引数x, y, zを受け取り「x時のyはz」という文字列を返す関数を実装せよ．さらに，x=12, y=”気温”, z=22.4として，実行結果を確認せよ．"
   ]
  },
  {
   "cell_type": "code",
   "execution_count": 10,
   "id": "8ad99f2a-1682-4b3c-800e-de13a938ba3c",
   "metadata": {},
   "outputs": [
    {
     "name": "stdout",
     "output_type": "stream",
     "text": [
      "「12時の気温は22.4」\n"
     ]
    }
   ],
   "source": [
    "def create_sentence(x, y, z):\n",
    "    ans07_str = \"「\" + str(x) + \"時の\" + str(y) + \"は\" + str(z) + \"」\"\n",
    "    return ans07_str\n",
    "\n",
    "print(create_sentence(12, \"気温\", 22.4))"
   ]
  },
  {
   "cell_type": "markdown",
   "id": "02f44f37-2689-45ae-be1f-d11f0b8910a5",
   "metadata": {},
   "source": [
    "## 08. 暗号文"
   ]
  },
  {
   "cell_type": "raw",
   "id": "d6d8d2a6-82e5-49e5-9fd5-e4d2d5677794",
   "metadata": {},
   "source": [
    "与えられた文字列の各文字を，以下の仕様で変換する関数cipherを実装せよ．\n",
    "\n",
    "英小文字ならば(219 - 文字コード)の文字に置換\n",
    "その他の文字はそのまま出力\n",
    "この関数を用い，英語のメッセージを暗号化・復号化せよ．"
   ]
  },
  {
   "cell_type": "code",
   "execution_count": 13,
   "id": "abb6d6f1-845d-42e9-9221-8694fa41ebde",
   "metadata": {},
   "outputs": [
    {
     "name": "stdout",
     "output_type": "stream",
     "text": [
      "97\n",
      "112\n",
      "122\n"
     ]
    }
   ],
   "source": [
    "print(ord(\"a\"))\n",
    "print(ord(\"p\"))\n",
    "print(ord(\"z\"))"
   ]
  },
  {
   "cell_type": "code",
   "execution_count": 17,
   "id": "d34d6878-9694-49bb-bbdb-c83af926adb5",
   "metadata": {},
   "outputs": [
    {
     "name": "stdout",
     "output_type": "stream",
     "text": [
      "わたし 私 219-97 A 1\n"
     ]
    }
   ],
   "source": [
    "def chipher(str08):\n",
    "    ans08_str = \"\"\n",
    "    for i in range(len(str08)):\n",
    "        tmp_ord = ord(str08[i])\n",
    "        # 英小文字を変換\n",
    "        if (97<=tmp_ord<=122):\n",
    "            ans_letter = \"219-\" + str(tmp_ord)\n",
    "        else:\n",
    "            ans_letter = str08[i]\n",
    "        ans08_str = ans08_str + ans_letter\n",
    "    return ans08_str\n",
    "\n",
    "print(chipher(\"わたし 私 a A 1\"))"
   ]
  },
  {
   "cell_type": "markdown",
   "id": "3449e387-2be8-4ce5-a6d2-9101f6a428d7",
   "metadata": {},
   "source": [
    "## 09.Typoglycemia"
   ]
  },
  {
   "cell_type": "raw",
   "id": "8bed4d77-fc14-426f-98d7-2837a1dd2680",
   "metadata": {},
   "source": [
    "スペースで区切られた単語列に対して，各単語の先頭と末尾の文字は残し，それ以外の文字の順序をランダムに並び替えるプログラムを作成せよ．ただし，長さが４以下の単語は並び替えないこととする．適当な英語の文（例えば”I couldn’t believe that I could actually understand what I was reading : the phenomenal power of the human mind .”）を与え，その実行結果を確認せよ．"
   ]
  },
  {
   "cell_type": "code",
   "execution_count": 10,
   "id": "1eef52b8-4a46-48ee-b77c-af1ef8e022d1",
   "metadata": {},
   "outputs": [
    {
     "name": "stdout",
     "output_type": "stream",
     "text": [
      "d\n",
      "o\n",
      "d\n",
      "I cdodn\n"
     ]
    }
   ],
   "source": [
    "import random\n",
    "\n",
    "def lt_sort_random(str09):\n",
    "    # 応答用\n",
    "    ans_lst_words = []\n",
    "    # 単語列を単語に分解\n",
    "    lst_words = str09.split()\n",
    "    # 各単語ごとに単語の順番を並び替え\n",
    "    for word in lst_words:\n",
    "        tmp_word = \"\"\n",
    "        ans_lst = []\n",
    "        for i in range(len(word)):\n",
    "            #print(len(word))\n",
    "            #print(word[i])\n",
    "            if len(word)<=4 or i==0 or i==len(word)-1:\n",
    "                tmp_word = tmp_word + word[i]\n",
    "            else:\n",
    "                # 1~最後の1個前の文字\n",
    "                lst_random = range(1, len(word)-1, 1)\n",
    "                idx_ramdom = random.randrange(1, len(word)-1 , 1)\n",
    "                tmp_word = tmp_word + word[idx_ramdom]\n",
    "                print(word[idx_ramdom])\n",
    "                #print(tmp_word)\n",
    "        ans_lst_words.append(tmp_word)\n",
    "    # リスト内の単語を連結\n",
    "    ans_str09 = \" \".join(ans_lst_words)\n",
    "    return ans_str09\n",
    "\n",
    "print(lt_sort_random(\"I coudn\"))\n",
    "# print(lt_sort_random(\"I couldn’t believe that I could actually understand what I was reading : the phenomenal power of the human mind .\"))"
   ]
  },
  {
   "cell_type": "code",
   "execution_count": null,
   "id": "b938cdb6-0c98-4ad5-866f-7283a20ca849",
   "metadata": {},
   "outputs": [],
   "source": []
  }
 ],
 "metadata": {
  "kernelspec": {
   "display_name": "Python 3",
   "language": "python",
   "name": "python3"
  },
  "language_info": {
   "codemirror_mode": {
    "name": "ipython",
    "version": 3
   },
   "file_extension": ".py",
   "mimetype": "text/x-python",
   "name": "python",
   "nbconvert_exporter": "python",
   "pygments_lexer": "ipython3",
   "version": "3.8.8"
  }
 },
 "nbformat": 4,
 "nbformat_minor": 5
}
